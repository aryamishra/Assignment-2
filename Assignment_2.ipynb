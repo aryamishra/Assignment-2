{
  "nbformat": 4,
  "nbformat_minor": 0,
  "metadata": {
    "colab": {
      "provenance": []
    },
    "kernelspec": {
      "name": "python3",
      "display_name": "Python 3"
    },
    "language_info": {
      "name": "python"
    }
  },
  "cells": [
    {
      "cell_type": "markdown",
      "source": [],
      "metadata": {
        "id": "8WUSpfl3DaSk"
      }
    },
    {
      "cell_type": "markdown",
      "source": [
        "# Data type & structure assignment.\n",
        "\n",
        "---\n",
        "\n",
        "1> What are data structures, and why are they important?\n",
        "\n",
        "--> a) Data structures are specialized formats for organizing, storing, and accessing collections of data. They provide efficient ways to manage information based on its characteristics and intended use.\n",
        "    b) It is a container that hold our data and determine how we can interact with it. Different containers are better suited for different types of items.\n",
        "\n",
        "    Importance of data structure:\n",
        "    a) Simplify data manipulation (adding, removing, modifying elements).\n",
        "    b) Choosing the right data structure significantly impacts the efficiency and performance of our program.\n",
        "    c) Optimize searching and sorting operations.\n",
        "    d) Conserve memory usage.\n",
        "\n",
        "2>  Explain the difference between mutable and immutable data types with examples.\n",
        "\n",
        "--> Mutable data type: Mutable data types can be edited i.e., they can change at runtime. Eg: List, Dictionary, etc.\n",
        "\n",
        "    Example : Lists can be modified, meaning their elements can be changed, added or removed after creation.\n",
        "\n",
        "    a = [1, 2, 4, 4, 3, 3, 3, 6, 5]\n",
        "\n",
        "    # Modifying an element in the list `a`\n",
        "    a[3] = 77\n",
        "    print(a)\n",
        "\n",
        "    Output: [1, 2, 4, 77, 3, 3, 3, 6, 5]\n",
        "\n",
        "\n",
        "   Immutable data type: Immutable data types can not be edited i.e., they can not change at runtime. Eg: String, Tuple, etc.\n",
        "\n",
        "   Example: Tuples cannot be modified after creation. Any attempt to change an element will result in an error.\n",
        "\n",
        "   b = (0, 1, 2, 3)\n",
        "\n",
        "   # Attempting to modify a tuple\n",
        "   b[0] = 4\n",
        "   print(b)\n",
        "\n",
        "  It will throw an error.\n",
        "\n",
        "\n",
        " 3> What are the main differences between lists and tuples in Python?\n",
        "\n",
        " --> List: a) Lists are Mutable datatype.\n",
        "           b)Lists consume more memory\n",
        "           c)The list is better for performing operations, such as insertion and deletion.\n",
        "           d)The implication of iterations is Time-consuming.\n",
        "\n",
        "     Tuple: a)Tuples are Immutable datatype.\n",
        "            b)Tuple consumes less memory as compared to the list\n",
        "            c)Tuple data type is appropriate for accessing the elements\n",
        "            d)The implication of iterations is comparatively Faster.\n",
        "\n",
        "  4> Describe how dictionaries store data.\n",
        "\n",
        "  --> Dictionary in python is a data structure that stores the value in key: value pairs. Values in a dictionary can be of any data type and can be duplicated, whereas keys can’t be repeated and must be immutable.\n",
        "\n",
        "  Example: The data is stored in key:value pairs in dictionaries, which makes it easier to find values.\n",
        "\n",
        "     d = {1: 'i', 2: 'love', 3: 'pwskills'}\n",
        "     print(d)\n",
        "\n",
        "     Output: {1: 'i', 2: 'love', 3: 'pwskills'}\n",
        "\n",
        "\n",
        "  5> Why might you use a set instead of a list in Python?\n",
        "\n",
        "  --> A set in Python is an unordered collection of unique elements, while a list is an ordered collection that allows duplicate elements. There are several reasons why we might choose to use a set instead of a list:\n",
        "\n",
        "    a) Uniqueness:\n",
        "       If we need to ensure that all elements in a collection are unique, a set is the ideal choice. Sets automatically discard duplicate values, which can be useful for tasks such as removing duplicates from a list or finding unique elements in a dataset.\n",
        "\n",
        "    b) Membership testing:\n",
        "       Sets are highly optimized for membership testing, which means checking if an element is present in the set. This operation is much faster in sets compared to lists, especially for large collections.\n",
        "\n",
        "    c) Set operations:\n",
        "       Sets provide built-in support for common set operations such as union, intersection, and difference. These operations can be performed efficiently on sets, making them suitable for tasks involving set theory.\n",
        "\n",
        "    d) Order is not important:\n",
        "       If the order of elements is not important, a set can be a more efficient choice than a list. Sets do not maintain the order of elements, which can lead to performance improvements in certain scenarios.\n",
        "\n",
        "       So, we would use a set instead of a list when we need to ensure uniqueness, perform fast membership tests, utilize set operations, or when the order of elements is not important.\n",
        "\n",
        "\n",
        " 6> What is a string in Python, and how is it different from a list?\n",
        "\n",
        " --> A string is a sequence of characters. Python treats anything inside quotes\n",
        "     as a string. This includes letters, numbers, and symbols. Python has no character data type so single character is a string of length 1.\n",
        "\n",
        "     Example: s = \"ARYA\"\n",
        "\n",
        "              print(s[1]) # access 2nd char\n",
        "              s1 = s + s[0] # update\n",
        "              print(s1) # print\n",
        "\n",
        "              Output: R\n",
        "                      ARYAA\n",
        "\n",
        "        How string is different from list un python:\n",
        "\n",
        "        Strings and lists are both fundamental sequence types in Python, but they differ significantly in terms of mutability and the types of elements they can hold.\n",
        "\n",
        "       a) Mutability:\n",
        "          Strings are immutable, meaning their contents cannot be altered after creation. Any operation that appears to modify a string actually creates a new string. Lists, on the other hand, are mutable, allowing for in-place modification of their elements.\n",
        "\n",
        "        b) Element types:\n",
        "           Strings are sequences of characters, while lists can contain elements of any data type, including a mix of different types within the same list.\n",
        "\n",
        "\n",
        "7>   How do tuples ensure data integrity in Python?\n",
        "\n",
        "-->  Tuples in Python ensure data integrity through their immutability. Once a\n",
        "     tuple is created, its elements cannot be modified, added, or removed. This characteristic guarantees that the data stored within a tuple remains constant throughout its lifecycle. Immutability provides a safeguard against accidental or unauthorized alterations, ensuring the consistency and reliability of the data. Tuples can be used as keys in dictionaries and elements in sets because of their immutability.\n",
        "\n",
        "\n",
        "8>   What is a hash table, and how does it relate to dictionaries in Python?\n",
        "\n",
        "-->  A hash table is a data structure that stores key-value pairs, using a hash function to compute an index for each key, which determines the position of the corresponding value in an array. This allows for efficient insertion, deletion, and retrieval of data, typically with an average time complexity of O(1).\n",
        "\n",
        "In Python, dictionaries are implemented using hash tables. When a key-value pair is added to a dictionary, Python calculates the hash value of the key and uses it to determine where to store the value. This allows for fast lookups, as Python can quickly calculate the hash value of a key and retrieve the corresponding value without having to search through the entire dictionary.\n",
        "\n",
        "Esample: my_dict = {\"apple\": 1, \"banana\": 2, \"cherry\": 3}\n",
        "         print(my_dict[\"banana\"])\n",
        "         # Output: 2\n",
        "\n",
        "         In this example, the keys \"apple\", \"banana\", and \"cherry\" are hashed to determine their positions in the underlying hash table. When accessing the value associated with the key \"banana\", Python calculates the hash value of \"banana\" and uses it to quickly locate the corresponding value, which is 2.\n",
        "\n",
        "\n",
        "9>  Can lists contain different data types in Python?\n",
        "\n",
        "--> Yes, lists in Python can contain items of different data types. A single\n",
        "    list can hold integers, strings, floats, booleans, and even other lists, tuples, or dictionaries. This flexibility is a key feature of Python lists.\n",
        "\n",
        "    Example:  my_list = [1, \"hello\", 3.14, True, [1, 2, 3], {\"name\": \"John\"}]\n",
        "              print(my_list)\n",
        "              # output: [1, \"hello\", 3.14, True, [1, 2, 3], {'name': 'John'}]\n",
        "\n",
        "\n",
        "10>  Explain why strings are immutable in Python?\n",
        "\n",
        "-->  Strings in Python are “immutable” which means they can not be changed after they are created.The immutability of Python string is very useful as it helps in hashing, performance optimization, safety, ease of use, etc.\n",
        "\n",
        "Example:\n",
        "\n",
        "       Input:  name_1 = \"Pwskills\"\n",
        "             name_1[0] = 'M'\n",
        "       Output: TypeError: 'str' object does not support item assignment\n",
        "\n",
        "       Explanation: We cannot update the string after declaring it means once an immutable the objects instantiated, its value cannot be changed.\n",
        "\n",
        "\n",
        "11>  What advantages do dictionaries offer over lists for certain tasks?\n",
        "\n",
        "-->  Dictionary: a) The dictionary is a hashed structure of the key and value\n",
        "                    pairs.\n",
        "                 b) The dictionary is created by placing elements in { } as “key”:”value”, each key-value pair is separated by commas “, “\n",
        "                 c) The keys of the dictionary can be of any immutable data type.\n",
        "                 d) The elements are accessed via key.\n",
        "                 e) Dictionaries cannot contain duplicate keys but can contain duplicate values since each value has unique key.\n",
        "                 f) For large-scale searches and deletions, dictionaries outperform lists.\n",
        "\n",
        "     List:       a) The list is a collection of index value pairs like  \n",
        "                    ArrayList in Java and Vectors in C++.\n",
        "                 b) The list is created by placing elements in [ ] separated by commas “, “\n",
        "                 c) The indices of the list are integers starting from 0.\n",
        "                 d) The elements are accessed via indices.\n",
        "                 e) The order of the elements entered is maintained.\n",
        "                 f) Lists can duplicate values since each values have unique index.\n",
        "                 g) For sequential access and storage efficiency, lists are preferable.\n",
        "\n",
        "\n",
        "12>   Describe a scenario where using a tuple would be preferable over a list?\n",
        "\n",
        "-->  We should use a tuple instead of a list when we have a collection of\n",
        "     items that should not be modified. Tuples are useful when we want to ensure that the data remains constant throughout your program. Lists, on the other hand, are more suitable when we need to add, remove, or modify elements.\n",
        "\n",
        "\n",
        "13>  How do sets handle duplicate values in Python?\n",
        "\n",
        "-->  Sets in Python are designed to store only unique elements. When an attempt\n",
        "     is made to add a duplicate value to a set, it is automatically ignored, and the set remains unchanged. This behavior ensures that a set always contains distinct elements. It's a built-in feature of sets, making them useful for tasks like removing duplicates from a list or checking for the presence of unique items.\n",
        "\n",
        "     Example: my_set = {1, 2, 2, 3, 4, 4, 5}\n",
        "\n",
        "              print(my_set)\n",
        "\n",
        "              Output: {1, 2, 3, 4, 5}\n",
        "\n",
        "\n",
        "\n",
        "14>  How does the “in” keyword work differently for lists and dictionaries?\n",
        "\n",
        "-->  The \"in\" keyword in python is a powerful operator used for membership\n",
        "     testing and iteration. It helps determine whether an element exists within a given sequence, such as list, tuple, string, set or dictionary.\n",
        "\n",
        "     Example: a) \"in\" keyword for list :\n",
        "                  we will check if the string “php” is present in a list of programming languages. If it is, the program will print True.\n",
        "\n",
        "                  a = [\"php\", \"python\", \"java\"]\n",
        "\n",
        "                  if \"php\" in a:\n",
        "                      print(True)\n",
        "\n",
        "                      Output: True\n",
        "\n",
        "               Explanation: The in operator checks if the string “php” is present in the list a. Since “php” exists in the list, the output will be True.\n",
        "\n",
        "               b) \"in\" keyword for dictionary:\n",
        "                  we will check if the key “Alice” exists in a dictionary of student names and marks. If the key is found, we will print Alice's marks.\n",
        "\n",
        "                  d = {\"Alice\": 90, \"Bob\": 85}\n",
        "\n",
        "                      if \"Alice\" in d:\n",
        "                          print(\"Alice's marks are:\", d[\"Alice\"])\n",
        "\n",
        "                          Output: Alice's marks are: 90\n",
        "\n",
        "                Explanation: The in operator checks whether “Alice” is present as a key in dictionary d. Since “Alice” is a key, it prints her marks.\n",
        "\n",
        "\n",
        "\n",
        "15>  Can you modify the elements of a tuple? Explain why or why not?\n",
        "\n",
        "-->  No, we cannot directly modify the elements of a tuple in Python. Tuples\n",
        "     are immutable data structures, meaning their elements cannot be changed after they are created. Attempting to assign a new value to an element within a tuple will raise a TypeError.\n",
        "     Tuples are designed for fixed, unchangeable collections of data, and their immutability provides benefits in terms of performance and data integrity.\n",
        "\n",
        "\n",
        "16>  What is a nested dictionary, and give an example of its use case?\n",
        "\n",
        "-->  Nesting dictionary means putting a dictionary inside another dictionary.\n",
        "     Nesting is of great use as the kind of information we can model in programs is expanded greatly.\n",
        "\n",
        "     A Nested dictionary can be created by placing the comma-separated dictionaries enclosed within braces.\n",
        "\n",
        "\n",
        "     Example:\n",
        "\n",
        "            # Empty nested dictionary\n",
        "            Dict = { 'Dict1': { },\n",
        "\t\t                 'Dict2': { }}\n",
        "            print(\"Nested dictionary 1-\")\n",
        "            print(Dict)\n",
        "\n",
        "            # Nested dictionary having same keys\n",
        "            Dict = { 'Dict1': {'name': 'Ali', 'age': '19'},\n",
        "\t\t                 'Dict2': {'name': 'Bob', 'age': '25'}}\n",
        "            print(\"\\nNested dictionary 2-\")\n",
        "            print(Dict)\n",
        "\n",
        "          # Nested dictionary of mixed dictionary keys\n",
        "          Dict = { 'Dict1': {1: 'G', 2: 'F', 3: 'G'},\n",
        "\t\t               'Dict2': {'Name': 'Arya', 1: [1, 2]} }\n",
        "          print(\"\\nNested dictionary 3-\")\n",
        "          print(Dict)\n",
        "\n",
        "\n",
        "          Output:\n",
        "\n",
        "          Nested dictionary 1-\n",
        "          {'Dict1': {}, 'Dict2': {}}\n",
        "\n",
        "          Nested dictionary 2-\n",
        "          {'Dict1': {'name': 'Ali', 'age': '19'}, 'Dict2': {'name': 'Bob', 'age': '25'}}\n",
        "\n",
        "         Nested dictionary 3-\n",
        "         {'Dict1': {1: 'G', 2: 'F', 3: 'G'}, 'Dict2': {1: [1, 2], 'Name': 'Arya'}}\n",
        "\n",
        "\n",
        "\n",
        "17>  Describe the time complexity of accessing elements in a dictionary.\n",
        "\n",
        "-->  The time complexity of retrieving a value by its key in a dictionary is O\n",
        "     (1). This is because dictionaries use a hash table internally which allows constant time lookup.\n",
        "\n",
        "     Example:  \n",
        "\n",
        "             # Create a dictionary\n",
        "             dict = {'a': 1, 'b': 2, 'c': 3}\n",
        "\n",
        "             # Access value by key\n",
        "             val = dict['b']\n",
        "             print(val)\n",
        "\n",
        "\n",
        "       Reason for O(1) : Hash tables use the hash of the key to find the memory location which enables direct access.\n",
        "\n",
        "\n",
        "\n",
        "18>  In what situations are lists preferred over dictionaries?\n",
        "\n",
        "--> a) Lists are faster for index-based access, as retrieving an element by index takes O(1), whereas dictionary lookups require computing a hash.\n",
        "\n",
        "    b) For sequential access and storage efficiency, lists are preferable.\n",
        "\n",
        "    c) For ordered collections and sequence operations, such as maintaining a stack or queue, lists are more suitable.\n",
        "\n",
        "\n",
        "19>  Why are dictionaries considered unordered, and how does that affect data retrieval?\n",
        "\n",
        "--> A dictionary is termed an unordered collection of objects because\n",
        "  dictionaries do not maintain any inherent order of the items based on when they were added.\n",
        "\n",
        "20>  Explain the difference between a list and a dictionary in terms of data retrieval.\n",
        "\n",
        "--> A list is an ordered collection of items, whereas a dictionary is an unordered data collection in a key: value pair. Elements from the list can be accessed using the index, while the elements of the dictionary can be accessed using keys.\n",
        "\n",
        "\n",
        "\n",
        "\n",
        "\n",
        "\n",
        "\n",
        "\n",
        "\n",
        "\n",
        "\n",
        "\n",
        "\n",
        "\n",
        "\n",
        "                       \n",
        "\n",
        "\n",
        "\n"
      ],
      "metadata": {
        "id": "WIuSaUTqEPy7"
      }
    },
    {
      "cell_type": "markdown",
      "source": [
        "# New Section"
      ],
      "metadata": {
        "id": "zRLQgkkO43MT"
      }
    },
    {
      "cell_type": "code",
      "source": [
        "# Practical questions:\n"
      ],
      "metadata": {
        "id": "ZFwOTGCg49eX"
      },
      "execution_count": null,
      "outputs": []
    },
    {
      "cell_type": "code",
      "source": [
        "# 1>  Write a code to create a string with your name and print it.\n",
        "\n",
        "string_name = \"Arya\"\n",
        "print(string_name)"
      ],
      "metadata": {
        "colab": {
          "base_uri": "https://localhost:8080/"
        },
        "id": "Ji3mndgL5Dv3",
        "outputId": "bf449c56-5095-4012-cadc-8bd93db8aa75"
      },
      "execution_count": null,
      "outputs": [
        {
          "output_type": "stream",
          "name": "stdout",
          "text": [
            "Arya\n"
          ]
        }
      ]
    },
    {
      "cell_type": "code",
      "source": [
        "#2> Write a code to find the length of the string \"Hello World\".\n",
        "print(len(\"Hello World\"))"
      ],
      "metadata": {
        "colab": {
          "base_uri": "https://localhost:8080/"
        },
        "id": "y67TeTWI59NJ",
        "outputId": "2de5f0ab-44c6-4053-8633-5f833bbea952"
      },
      "execution_count": null,
      "outputs": [
        {
          "output_type": "stream",
          "name": "stdout",
          "text": [
            "11\n"
          ]
        }
      ]
    },
    {
      "cell_type": "code",
      "source": [
        "#3> Write a code to slice the first 3 characters from the string \"Python Programming\"\n",
        "str = \"python programming\"\n",
        "print(str[0:3])"
      ],
      "metadata": {
        "colab": {
          "base_uri": "https://localhost:8080/"
        },
        "id": "GTVW1HCG6mxp",
        "outputId": "2694d94d-ff8a-4178-cddf-cb84544d5397"
      },
      "execution_count": null,
      "outputs": [
        {
          "output_type": "stream",
          "name": "stdout",
          "text": [
            "pyt\n"
          ]
        }
      ]
    },
    {
      "cell_type": "code",
      "source": [
        "#4> Write a code to convert the string \"hello\" to uppercase.\n",
        "s = \"hello\"\n",
        "result = s.upper()\n",
        "print(result)"
      ],
      "metadata": {
        "colab": {
          "base_uri": "https://localhost:8080/"
        },
        "id": "-wGM7ufVuvNu",
        "outputId": "2f8f2001-222f-4720-ee18-e131b1769261"
      },
      "execution_count": null,
      "outputs": [
        {
          "output_type": "stream",
          "name": "stdout",
          "text": [
            "HELLO\n"
          ]
        }
      ]
    },
    {
      "cell_type": "code",
      "source": [
        "#5> Write a code to replace the word \"apple\" with \"orange\" in the string \"I like apple\".\n",
        "original_sentence = \"I like apple\"\n",
        "replace_sentence  = original_sentence.replace(\"apple\",\"orange\")\n",
        "print(replace_sentence)"
      ],
      "metadata": {
        "colab": {
          "base_uri": "https://localhost:8080/"
        },
        "id": "USW1vL5Sv-bQ",
        "outputId": "1de20990-aa5a-4b0a-b7fe-6c9a7072866d"
      },
      "execution_count": null,
      "outputs": [
        {
          "output_type": "stream",
          "name": "stdout",
          "text": [
            "I like orange\n"
          ]
        }
      ]
    },
    {
      "cell_type": "code",
      "source": [
        "#6> Write a code to create a list with numbers 1 to 5 and print it.\n",
        "list = [1,2,3,4,5]\n",
        "print(list)"
      ],
      "metadata": {
        "colab": {
          "base_uri": "https://localhost:8080/"
        },
        "id": "bJGNJ8chxJOu",
        "outputId": "c92a295b-5c82-40e0-f566-5cd104e11a36"
      },
      "execution_count": null,
      "outputs": [
        {
          "output_type": "stream",
          "name": "stdout",
          "text": [
            "[1, 2, 3, 4, 5]\n"
          ]
        }
      ]
    },
    {
      "cell_type": "code",
      "source": [
        "#7> Write a code to append the number 10 to the list [1, 2, 3, 4]\n",
        "a = [1,2,3,4]\n",
        "a.append(10)\n",
        "print(a)"
      ],
      "metadata": {
        "colab": {
          "base_uri": "https://localhost:8080/"
        },
        "id": "qG6ooZXMxYrJ",
        "outputId": "a9ddf11e-bc5a-4f9f-efd2-3d5ae650d153"
      },
      "execution_count": null,
      "outputs": [
        {
          "output_type": "stream",
          "name": "stdout",
          "text": [
            "[1, 2, 3, 4, 10]\n"
          ]
        }
      ]
    },
    {
      "cell_type": "code",
      "source": [
        "#8> Write a code to remove the number 3 from the list [1, 2, 3, 4, 5]\n",
        "b = [1,2,3,4,5]\n",
        "b.remove(3)\n",
        "print(b)"
      ],
      "metadata": {
        "colab": {
          "base_uri": "https://localhost:8080/"
        },
        "id": "Hcans-tux28L",
        "outputId": "ffa7a79e-9687-4981-85bd-2c313dc63522"
      },
      "execution_count": null,
      "outputs": [
        {
          "output_type": "stream",
          "name": "stdout",
          "text": [
            "[1, 2, 4, 5]\n"
          ]
        }
      ]
    },
    {
      "cell_type": "code",
      "source": [
        "#9>  Write a code to access the second element in the list ['a', 'b', 'c', 'd']\n",
        "list_access= ['a','b','c','d']\n",
        "print(list_access[1])"
      ],
      "metadata": {
        "colab": {
          "base_uri": "https://localhost:8080/"
        },
        "id": "A_O2gBILySmN",
        "outputId": "f1776ade-d479-49f4-87c5-a9bc9fa55177"
      },
      "execution_count": null,
      "outputs": [
        {
          "output_type": "stream",
          "name": "stdout",
          "text": [
            "b\n"
          ]
        }
      ]
    },
    {
      "cell_type": "code",
      "source": [
        "#10> Write a code to reverse the list [10, 20, 30, 40, 50].\n",
        "list = [10,20,30, 40, 50]\n",
        "list.reverse()\n",
        "print(list)"
      ],
      "metadata": {
        "id": "x7GazNYuy5lz",
        "colab": {
          "base_uri": "https://localhost:8080/"
        },
        "outputId": "50332b8a-d4e6-438e-9b19-15ecb7a1d1fb"
      },
      "execution_count": null,
      "outputs": [
        {
          "output_type": "stream",
          "name": "stdout",
          "text": [
            "[50, 40, 30, 20, 10]\n"
          ]
        }
      ]
    },
    {
      "cell_type": "code",
      "source": [
        "#11>   Write a code to create a tuple with the elements 100, 200, 300 and print it.\n",
        "tup = (100,200,300)\n",
        "\n",
        "print(tup)"
      ],
      "metadata": {
        "colab": {
          "base_uri": "https://localhost:8080/"
        },
        "id": "f1JSfswOIH1C",
        "outputId": "27566e50-00a5-417d-fad7-d4c1ecbc33e1"
      },
      "execution_count": null,
      "outputs": [
        {
          "output_type": "stream",
          "name": "stdout",
          "text": [
            "(100, 200, 300)\n"
          ]
        }
      ]
    },
    {
      "cell_type": "code",
      "source": [
        "#12>   Write a code to access the second-to-last element of the tuple ('red', 'green', 'blue', 'yellow').\n",
        "tup1 = ('red', 'green', 'blue', 'yellow')\n",
        "print(tup1[-2])"
      ],
      "metadata": {
        "colab": {
          "base_uri": "https://localhost:8080/"
        },
        "id": "QBbmT0iIJiI4",
        "outputId": "2b629893-ebf4-49c3-e98a-1859535352a9"
      },
      "execution_count": null,
      "outputs": [
        {
          "output_type": "stream",
          "name": "stdout",
          "text": [
            "blue\n"
          ]
        }
      ]
    },
    {
      "cell_type": "code",
      "source": [
        "#13>   Write a code to find the minimum number in the tuple (10, 20, 5, 15)\n",
        "tup2= (10, 20, 5, 15)\n",
        "res = min(tup2)\n",
        "print(res)"
      ],
      "metadata": {
        "colab": {
          "base_uri": "https://localhost:8080/"
        },
        "id": "BV2w9NC6Kcrd",
        "outputId": "5cc70c24-fb09-44a4-fe41-34b9a9c98d91"
      },
      "execution_count": null,
      "outputs": [
        {
          "output_type": "stream",
          "name": "stdout",
          "text": [
            "5\n"
          ]
        }
      ]
    },
    {
      "cell_type": "code",
      "source": [
        "#14>  Write a code to find the index of the element \"cat\" in the tuple ('dog', 'cat', 'rabbit')\n",
        "tup4 = ('dog', 'cat', 'rabbit')\n",
        "index = tup4.index('cat')\n",
        "print(index)"
      ],
      "metadata": {
        "colab": {
          "base_uri": "https://localhost:8080/"
        },
        "id": "sX99vb7XLKjC",
        "outputId": "08a166fb-0aec-4985-877b-7f8b29d0a365"
      },
      "execution_count": null,
      "outputs": [
        {
          "output_type": "stream",
          "name": "stdout",
          "text": [
            "1\n"
          ]
        }
      ]
    },
    {
      "cell_type": "code",
      "source": [
        "#15>   Write a code to create a tuple containing three different fruits and check if \"kiwi\" is in it\n",
        "tup5= ('orange', 'banana', 'kiwi', 'grapes')\n",
        "if 'kiwi' in tup5:\n",
        "  print(\"kiwi is present\")\n"
      ],
      "metadata": {
        "id": "1q82lbdNMG3T",
        "colab": {
          "base_uri": "https://localhost:8080/"
        },
        "outputId": "4ce834cf-9b47-4b4e-ab99-2d0ae535f574"
      },
      "execution_count": 2,
      "outputs": [
        {
          "output_type": "stream",
          "name": "stdout",
          "text": [
            "kiwi is present\n"
          ]
        }
      ]
    },
    {
      "cell_type": "code",
      "source": [
        "#16>  Write a code to create a set with the elements 'a', 'b', 'c' and print it.\n",
        "set1 = {'a', 'b', 'c'}\n",
        "print(set1)"
      ],
      "metadata": {
        "colab": {
          "base_uri": "https://localhost:8080/"
        },
        "id": "Q4KIN-fdwATw",
        "outputId": "135749ee-d15d-48cd-a2d3-a184f1c0fc25"
      },
      "execution_count": 5,
      "outputs": [
        {
          "output_type": "stream",
          "name": "stdout",
          "text": [
            "{'a', 'b', 'c'}\n"
          ]
        }
      ]
    },
    {
      "cell_type": "code",
      "source": [
        "#17>   Write a code to clear all elements from the set {1, 2, 3, 4, 5}\n",
        "set2 = {1, 2, 3, 4, 5}\n",
        "set2.clear()\n",
        "print(set2)"
      ],
      "metadata": {
        "colab": {
          "base_uri": "https://localhost:8080/"
        },
        "id": "3LNdIjaZw64N",
        "outputId": "c811c6de-11cf-4d86-e4e7-e616350c63e0"
      },
      "execution_count": 6,
      "outputs": [
        {
          "output_type": "stream",
          "name": "stdout",
          "text": [
            "set()\n"
          ]
        }
      ]
    },
    {
      "cell_type": "code",
      "source": [
        "#18>   Write a code to remove the element 4 from the set {1, 2, 3, 4}.\n",
        "set3 = {1, 2, 3, 4}\n",
        "set3.remove(4)\n",
        "print(set3)"
      ],
      "metadata": {
        "colab": {
          "base_uri": "https://localhost:8080/"
        },
        "id": "ydqnN1r0x3_l",
        "outputId": "48b0902c-d1dc-464a-b0c7-8316b45cb9bf"
      },
      "execution_count": 8,
      "outputs": [
        {
          "output_type": "stream",
          "name": "stdout",
          "text": [
            "{1, 2, 3}\n"
          ]
        }
      ]
    },
    {
      "cell_type": "code",
      "source": [
        "#19>  Write a code to find the union of two sets {1, 2, 3} and {3, 4, 5}.\n",
        "set4 = {1, 2, 3}\n",
        "set5 = {3, 4, 5}\n",
        "result = set4 | set5\n",
        "print(result)"
      ],
      "metadata": {
        "colab": {
          "base_uri": "https://localhost:8080/"
        },
        "id": "t145rlIJyn0T",
        "outputId": "9813f65e-5d4f-4356-a07e-2487022c5d72"
      },
      "execution_count": 9,
      "outputs": [
        {
          "output_type": "stream",
          "name": "stdout",
          "text": [
            "{1, 2, 3, 4, 5}\n"
          ]
        }
      ]
    },
    {
      "cell_type": "code",
      "source": [
        "#20> Write a code to find the intersection of two sets {1, 2, 3} and {2, 3, 4}.\n",
        "set6 = {1, 2, 3}\n",
        "set7 = {2, 3, 4}\n",
        "res = set6 & set7\n",
        "print(res)\n",
        "\n"
      ],
      "metadata": {
        "colab": {
          "base_uri": "https://localhost:8080/"
        },
        "id": "Jrg-zrw1zSeq",
        "outputId": "67da84f3-0140-4947-cd29-5115b89024d8"
      },
      "execution_count": 10,
      "outputs": [
        {
          "output_type": "stream",
          "name": "stdout",
          "text": [
            "{2, 3}\n"
          ]
        }
      ]
    },
    {
      "cell_type": "code",
      "source": [
        "#21>  Write a code to create a dictionary with the keys \"name\", \"age\", and \"city\", and print it\n",
        "dict = {\"name\" : \"Arya\", \"Age\" : 24, \"City\" : \"Mumbai\"}\n",
        "print(dict)"
      ],
      "metadata": {
        "colab": {
          "base_uri": "https://localhost:8080/"
        },
        "id": "1L5d1G1Gz_JI",
        "outputId": "cd148480-79df-4b28-d5c2-30023adbbb09"
      },
      "execution_count": 11,
      "outputs": [
        {
          "output_type": "stream",
          "name": "stdout",
          "text": [
            "{'name': 'Arya', 'Age': 24, 'City': 'Mumbai'}\n"
          ]
        }
      ]
    },
    {
      "cell_type": "code",
      "source": [
        "#22>   Write a code to add a new key-value pair \"country\": \"USA\" to the dictionary {'name': 'John', 'age': 25}.\n",
        "dict1 = {\"name\" : \"John\", \"age\" : 25}\n",
        "dict1[\"country\"] = \"USA\"\n",
        "print(dict1)"
      ],
      "metadata": {
        "colab": {
          "base_uri": "https://localhost:8080/"
        },
        "id": "pBja3AxI7EhU",
        "outputId": "37d097e0-aed9-438d-d718-227940d0cbd8"
      },
      "execution_count": 13,
      "outputs": [
        {
          "output_type": "stream",
          "name": "stdout",
          "text": [
            "{'name': 'John', 'age': 25, 'country': 'USA'}\n"
          ]
        }
      ]
    },
    {
      "cell_type": "code",
      "source": [
        "#23>  Write a code to access the value associated with the key \"name\" in the dictionary {'name': 'Alice', 'age': 30}.\n",
        "dict2 = {\"name\" : \"Alice\", \"age\" : 30}\n",
        "print(dict2[\"name\"])"
      ],
      "metadata": {
        "colab": {
          "base_uri": "https://localhost:8080/"
        },
        "id": "VgfbDI-O8H2L",
        "outputId": "3eadc4fe-289d-4a19-fa62-1efdc39b4f8f"
      },
      "execution_count": 14,
      "outputs": [
        {
          "output_type": "stream",
          "name": "stdout",
          "text": [
            "Alice\n"
          ]
        }
      ]
    },
    {
      "cell_type": "code",
      "source": [
        "#24>   Write a code to remove the key \"age\" from the dictionary {'name': 'Bob', 'age': 22, 'city': 'New York'}.\n",
        "dict3 = {'name': 'Bob', 'age': 22, 'city': 'New York'}\n",
        "dict3.pop(\"age\")\n",
        "print(dict3)\n"
      ],
      "metadata": {
        "colab": {
          "base_uri": "https://localhost:8080/"
        },
        "id": "qfiMU5ad9srl",
        "outputId": "f4a64526-c905-45e4-c8b7-64c7ab946394"
      },
      "execution_count": 16,
      "outputs": [
        {
          "output_type": "stream",
          "name": "stdout",
          "text": [
            "{'name': 'Bob', 'city': 'New York'}\n"
          ]
        }
      ]
    },
    {
      "cell_type": "code",
      "source": [
        "#25>  Write a code to check if the key \"city\" exists in the dictionary {'name': 'Alice', 'city': 'Paris'}.\n",
        "dict4 = {'name': 'Alice', 'city': 'Paris'}\n",
        "if \"city\" in dict4:\n",
        "  print(\"city is present\")\n"
      ],
      "metadata": {
        "colab": {
          "base_uri": "https://localhost:8080/"
        },
        "id": "MEAStZtA-EH0",
        "outputId": "ae407879-6669-4784-ef23-5e11b5e7f013"
      },
      "execution_count": 17,
      "outputs": [
        {
          "output_type": "stream",
          "name": "stdout",
          "text": [
            "city is present\n"
          ]
        }
      ]
    },
    {
      "cell_type": "code",
      "source": [
        "#26>   Write a code to create a list, a tuple, and a dictionary, and print them all.\n",
        "list = [1,2,3,4]\n",
        "tup = (1,2,3,4)\n",
        "dict = {\"name\" : \"Arya\", \"Age\" : 24, \"City\" : \"Mumbai\"}\n",
        "print(list)\n",
        "print(tup)\n",
        "print(dict)"
      ],
      "metadata": {
        "colab": {
          "base_uri": "https://localhost:8080/"
        },
        "id": "oXTaHCZr-WnG",
        "outputId": "573dae00-0b4c-4326-92d0-b4471b3a1270"
      },
      "execution_count": 18,
      "outputs": [
        {
          "output_type": "stream",
          "name": "stdout",
          "text": [
            "[1, 2, 3, 4]\n",
            "(1, 2, 3, 4)\n",
            "{'name': 'Arya', 'Age': 24, 'City': 'Mumbai'}\n"
          ]
        }
      ]
    },
    {
      "cell_type": "code",
      "source": [
        "#27>  Write a code to create a list of 5 random numbers between 1 and 100, sort it in ascending order, and print the result.\n",
        "list1 = [20, 10, 40, 30, 50]\n",
        "list1.sort()\n",
        "print(list1)"
      ],
      "metadata": {
        "colab": {
          "base_uri": "https://localhost:8080/"
        },
        "id": "BhtZpAyF-xLj",
        "outputId": "b3c276ee-ab7a-412e-b30c-b0332f736338"
      },
      "execution_count": 21,
      "outputs": [
        {
          "output_type": "stream",
          "name": "stdout",
          "text": [
            "[10, 20, 30, 40, 50]\n"
          ]
        }
      ]
    },
    {
      "cell_type": "code",
      "source": [
        "#28>   Write a code to create a list with strings and print the element at the third index.\n",
        "list2 = [\"apple\", \"banana\", \"cherry\", \"date\", \"bluerberry\"]\n",
        "print(list2[2])"
      ],
      "metadata": {
        "colab": {
          "base_uri": "https://localhost:8080/"
        },
        "id": "_ZEl2K2t_WIa",
        "outputId": "e0fa9a4a-4c8b-40b7-dd25-8aeba57c0c1e"
      },
      "execution_count": 22,
      "outputs": [
        {
          "output_type": "stream",
          "name": "stdout",
          "text": [
            "cherry\n"
          ]
        }
      ]
    },
    {
      "cell_type": "code",
      "source": [
        "#29>   Write a code to combine two dictionaries into one and print the result.\n",
        "dict =  {'a': 1, 'b': 2}\n",
        "dict1 = {'c': 3, 'd': 4}\n",
        "dict.update(dict1)\n",
        "print(dict)"
      ],
      "metadata": {
        "colab": {
          "base_uri": "https://localhost:8080/"
        },
        "id": "JVGd5G1s_trH",
        "outputId": "8f59dfb8-2a1a-4c30-b5b4-93cb3316773c"
      },
      "execution_count": 23,
      "outputs": [
        {
          "output_type": "stream",
          "name": "stdout",
          "text": [
            "{'a': 1, 'b': 2, 'c': 3, 'd': 4}\n"
          ]
        }
      ]
    },
    {
      "cell_type": "code",
      "source": [
        "#30>  Write a code to convert a list of strings into a set\n",
        "list = [\"apple\", \"banana\", \"cherry\"]\n",
        "set = set(list)\n",
        "print(set)"
      ],
      "metadata": {
        "colab": {
          "base_uri": "https://localhost:8080/"
        },
        "id": "EAB2Ov09ATZt",
        "outputId": "c1f13a9f-f67e-4b9e-bbe4-5feb54fb2282"
      },
      "execution_count": 27,
      "outputs": [
        {
          "output_type": "stream",
          "name": "stdout",
          "text": [
            "{'apple', 'cherry', 'banana'}\n"
          ]
        }
      ]
    },
    {
      "cell_type": "code",
      "source": [],
      "metadata": {
        "id": "Bl2gRbCSB8pS"
      },
      "execution_count": null,
      "outputs": []
    }
  ]
}